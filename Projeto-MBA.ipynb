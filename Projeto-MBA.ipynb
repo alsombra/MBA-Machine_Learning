{
 "cells": [
  {
   "cell_type": "markdown",
   "metadata": {},
   "source": [
    "# Projeto de Machine Learning\n",
    "\n",
    "## 1. Case RH - Retenção de funcionários\n",
    "Departamentos de RH geram uma grande quantidade de dados diariamente: salários e benefícios, recrutamento, desligamentos, afastamentos,  conflitos sociais, avaliações anuais, evolução de carreira, etc.\n",
    "Big Data combinado a análise preditiva pode potencializar o trabalho de profissionais de RH e gerar grandes benefícios a todos os stakeholders da organização.\n",
    "Há vários exemplos dos quais podemos discutir. Data analytics capacita, por exemplo, profissionais de recrutamento a verificar todos os tipos de correlações que antes eram justificadas apenas por intuição ou know-how. Plotar dados de engajamento dos funcionários por dados de salário e performance podem gerar insights e podemos não só olhar para trás (e analisar o que os dados estão nos dizendo) mas também fazer uma anáise preditiva.\n",
    "\n",
    "Estamos falando que Big Data usada de modo científico e metodológico não só pode nos permitir entender o que os dados estão nos dizendo sobre o passado, mas também podemos utilizá-los para predizer o futuro. Os grupos particulares de funcionários em risco de sair e aqueles grupos de talentos que serão particularmente difíceis de reter ou adquirir no futuro. \n",
    "\n",
    "Baseado em alguns itens, facilmente disponibilizados por departamentos de RH, modelos algorítmicos são capazes de extrair análises profundas que vão permitir empresas decidirem sobre a tomada de ações correta para imediatamente melhorar as taxas de retenção do seus funcionários.\n",
    "\n",
    "\n",
    "Imagine que você está em um projeto juntamente com a equipe de RH com o objetivo de melhorar as taxas de retenção de sua empresa. \n",
    "Crie um modelo que represente o *Job Satisfaction* de um profissional de TI a partir de características da compania e outros dados obtidos pela pesquisa. Utilize os dados da pesquisa de 2018 do Stackoverflow.\n",
    "\n",
    "Apresente a intuição que suporta o modelo escolhido.\n",
    "Comprove a assertividade deste modelo através de experimentos. \n",
    "\n",
    "\n",
    "\n",
    "## 2. Case Empresa de Anúncios - Previsão de salários\n",
    "\n",
    "\n",
    "Recrutamento é fundamental. Datasets de recrutamentos passados combinados com dados disponíveis ao público na web podem conter  dicas para potencializar a tomada correta de decisões em recrutamentos. Alguns exemplos de aplicações bem sucedidas são em: \n",
    "\n",
    "- detecção de talentos em potencial,\n",
    "- aumento de taxas de sucesso em recrutamento,\n",
    "- predição de efetividade de canais de recrutamento,\n",
    "- predizer Brand's Strenght da compania  (recrutadora),\n",
    "- prever a performance do funcionário .\n",
    "\n",
    "\n",
    "Aplicar Análise preditiva eficientemente em dados de RH pode, também, oferecer novos insights em oportunidades de otimização da performance atual e futura em vários momentos do ciclo de vida do empregado, como:\n",
    "\n",
    "- prever ociosidade e acidentes de trabalho,\n",
    "- analizar engajamento do funcionário,\n",
    "- retenção de colaboradores,\n",
    "- detectar possivel saída de funcionários e tomar medidas preventivas,\n",
    "- analizar desgaste do colaborador por unidade de negócios ou departamento,\n",
    "- prever a evolução do turnover no curto, médio e longo prazo.\n",
    " \n",
    "Big data analytics em RH permite o entendimento de forma acurada das motivações dos seus funcionários e o que os faz  permanecer mais tempo na sua empresa ou decidir sair. \n",
    "\n",
    "Sabendo-se que você trabalha em cooperação com a equipe de marketing de uma startup que promete melhorar as taxas de recrutamento para empresas de tecnologia através de melhoria na divulgação de suas vagas. Faça um modelo que permita prever o salário esperado de um profissional de TI a partir de vários perfis para uma determinada vaga divulgada por uma recrutadora. \n",
    "\n",
    "Crie um modelo que represente o *Salary* de um profissional de TI a partir de características da compania e outras características desejáveis do funcionários. Utilize os dados disponibilizados na pesquisa de 2018 do Stackoverflow.\n",
    "\n",
    "Apresente a intuição que suporta o modelo escolhido.\n",
    "Comprove a assertividade deste modelo através de experimentos. "
   ]
  },
  {
   "cell_type": "markdown",
   "metadata": {},
   "source": [
    "### Passos:\n",
    "\n",
    "0. Carregar base de dados\n",
    "1.Seleção de features - Análise das Features / Construir base analítica\n",
    "  - remover linhas com missing\n",
    "  - codificar variáveis categóricas como fatores\n",
    "  - etc.\n",
    "2. Análise exploratória da Base:\n",
    "  - Histograma de Salários\n",
    "  - Histograma de satisfação - Quantos tem satisfação maior que 0.7 \n",
    "  - Correlações das features, \n",
    "  - etc.\n",
    "4. Traduzir o problema - buscar a melhor solução de negócio\n",
    "5. Selecionar e treinar o modelo \n",
    "  - Selecionar o modelo\n",
    "  - Definir X (features) e y (variável dependente)\n",
    "  - Normalizar as features (facultativo, mas melhora os resultados de predição)\n",
    "  - Separar modelos em treino e teste \n",
    "  -Treinar o modelo\n",
    "6. Retornar MSE para o modelo e distribuição real do seu y_teste e do seu y_pred (y preditos)\n",
    "\n"
   ]
  },
  {
   "cell_type": "markdown",
   "metadata": {},
   "source": [
    "## DATA - Stackoverflow Survey 2018\n",
    "\n",
    "Link da base original : https://www.kaggle.com/stackoverflow/so-survey-2017/data\n",
    "\n",
    "Link da survey: https://insights.stackoverflow.com/survey/2018/\n",
    "\n",
    "Link da base semi-tratada: https://www.dropbox.com/s/vy0gyv6bs9dn63f/dados_semi_tratados.csv?dl=0\n",
    "\n",
    "#### OBS: Vocês deverão utilizar a base semi-tratada para o projeto, que é a base original com um tratamento prévio de remoção de algumas colunas de dados desnecessários. Os links da base original e da survey foram disponibilizados para vocês consultarem e entenderem a base."
   ]
  },
  {
   "cell_type": "code",
   "execution_count": null,
   "metadata": {},
   "outputs": [],
   "source": []
  }
 ],
 "metadata": {
  "kernelspec": {
   "display_name": "Python 3",
   "language": "python",
   "name": "python3"
  },
  "language_info": {
   "codemirror_mode": {
    "name": "ipython",
    "version": 3
   },
   "file_extension": ".py",
   "mimetype": "text/x-python",
   "name": "python",
   "nbconvert_exporter": "python",
   "pygments_lexer": "ipython3",
   "version": "3.5.2"
  }
 },
 "nbformat": 4,
 "nbformat_minor": 2
}
