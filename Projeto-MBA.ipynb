{
 "cells": [
  {
   "cell_type": "markdown",
   "metadata": {},
   "source": [
    "# Projeto de Machine Learning\n",
    "\n",
    "## 1. Case RH - Retenção de funcionários\n",
    "Objetivo:\n",
    "Criar um modelo que represente o *Job Satisfaction* de um profissional de TI a partir de características da compania e outros dados obtidos pela pesquisa. Utilize os dados da pesquisa de 2018 do Stackoverflow.\n",
    "\n",
    "## 2. Case Empresa de Anúncios - Previsão de salários\n",
    "\n",
    "Objetivo:\n",
    "Criar um modelo que represente o *Salary* de um profissional de TI a partir de características da compania e outras características dos funcionários utilizando os dados disponibilizados na pesquisa de 2017 do Stackoverflow.\n"
   ]
  },
  {
   "cell_type": "markdown",
   "metadata": {},
   "source": [
    "### Passos:\n",
    "\n",
    "0. Carregar base de dados\n",
    "1.Seleção de features - Análise das Features / Construir base analítica\n",
    "  - remover linhas com missing\n",
    "  - codificar variáveis categóricas como fatores\n",
    "  - etc.\n",
    "2. Análise exploratória da Base:\n",
    "  - Histograma de Salários\n",
    "  - Histograma de satisfação - Quantos tem satisfação maior que 0.7 \n",
    "  - Correlações das features, \n",
    "  - etc.\n",
    "4. Traduzir o problema - buscar a melhor solução de negócio\n",
    "5. Selecionar e treinar o modelo \n",
    "  - Selecionar o modelo\n",
    "  - Definir X (features) e y (variável dependente)\n",
    "  - Normalizar as features (facultativo, mas melhora os resultados de predição)\n",
    "  - Separar modelos em treino e teste \n",
    "  -Treinar o modelo\n",
    "6. Retornar MSE para o modelo e distribuição real do seu y_teste e do seu y_pred (y preditos)\n",
    "\n"
   ]
  },
  {
   "cell_type": "markdown",
   "metadata": {},
   "source": [
    "# LOAD DATASET"
   ]
  },
  {
   "cell_type": "code",
   "execution_count": 24,
   "metadata": {},
   "outputs": [],
   "source": [
    "import pandas as pd\n",
    "import numpy as np\n",
    "%matplotlib inline\n",
    "import matplotlib.pyplot as plt\n",
    "import seaborn as sns\n",
    "from sklearn import linear_model\n",
    "from sklearn.model_selection import train_test_split\n",
    "\n",
    "from sklearn import metrics\n",
    "pd.set_option('display.max_rows', 3500)\n",
    "pd.set_option('display.max_columns', 500)\n",
    "pd.set_option('display.width', 1000)\n",
    "\n",
    "data = pd.read_csv(\"survey_results_public.csv\")"
   ]
  },
  {
   "cell_type": "markdown",
   "metadata": {},
   "source": [
    "# TRATAMENTO DA BASE"
   ]
  },
  {
   "cell_type": "markdown",
   "metadata": {},
   "source": [
    "#### Elimino linhas que tenham nulos nas colunas Salário, JobSatisfaction, JobSeekingStatus e CarreerSatisfaction"
   ]
  },
  {
   "cell_type": "code",
   "execution_count": 25,
   "metadata": {},
   "outputs": [
    {
     "name": "stdout",
     "output_type": "stream",
     "text": [
      "# Linhas : 12847\n",
      "# Colunas:  154\n"
     ]
    }
   ],
   "source": [
    "data2 = data[~(data.Salary.isnull() | \n",
    "        data.JobSatisfaction.isnull() |\n",
    "        data.CareerSatisfaction.isnull())]\n",
    "nrow = data2.shape[0]\n",
    "print(\"# Linhas :\", nrow)\n",
    "print(\"# Colunas: \", data2.shape[1])\n",
    "del data"
   ]
  },
  {
   "cell_type": "markdown",
   "metadata": {},
   "source": [
    "#### Deleto linhas com HoursPerWeek >= 20 ( EmploymentStatus full-time ou part-time) \n",
    "(Supondo erro no preenchimento da survey)"
   ]
  },
  {
   "cell_type": "code",
   "execution_count": 26,
   "metadata": {},
   "outputs": [
    {
     "name": "stdout",
     "output_type": "stream",
     "text": [
      "5540\n"
     ]
    }
   ],
   "source": [
    "data2 = data2[(data2.HoursPerWeek<20)]\n",
    "print(len(data2))"
   ]
  },
  {
   "cell_type": "markdown",
   "metadata": {},
   "source": [
    "#### Deleto colunas que possuam mais de 5 mil missing (90%)"
   ]
  },
  {
   "cell_type": "code",
   "execution_count": 27,
   "metadata": {},
   "outputs": [
    {
     "data": {
      "text/plain": [
       "Index(['YearsCodedJobPast', 'MobileDeveloperType', 'NonDeveloperType', 'ExCoderReturn', 'ExCoderNotForMe', 'ExCoderBalance', 'ExCoder10Years', 'ExCoderBelonged', 'ExCoderSkills', 'ExCoderWillNotCode', 'ExCoderActive', 'TimeAfterBootcamp', 'ExpectedSalary'], dtype='object')"
      ]
     },
     "execution_count": 27,
     "metadata": {},
     "output_type": "execute_result"
    }
   ],
   "source": [
    "del_columns = data2.columns[data2.isnull().sum() >5000]\n",
    "df = data2.drop(del_columns, axis = 1)\n",
    "del_columns"
   ]
  },
  {
   "cell_type": "code",
   "execution_count": 5,
   "metadata": {},
   "outputs": [],
   "source": [
    "#PRINT DO NUMERO DE MISSING POR COLUNA:\n",
    "\n",
    "#print(\"data_tratada shape: \", df.shape)\n",
    "#print(\"total missing data\")\n",
    "#print()\n",
    "#for col in df.columns:\n",
    "#    print(col , df[col].isnull().sum())"
   ]
  },
  {
   "cell_type": "markdown",
   "metadata": {},
   "source": [
    "#### Deleto algumas colunas que são irrelevantes, que ainda possuem alto valor de missing ou que só possuem um só tipo de resposta (ex: Professional)"
   ]
  },
  {
   "cell_type": "code",
   "execution_count": 28,
   "metadata": {},
   "outputs": [],
   "source": [
    "#Colunas irrelevantes\n",
    "df = df.drop(\"Respondent\", axis = 1)\n",
    "df = df.drop('PronounceGIF', axis = 1)\n",
    "df = df.drop('ClickyKeys', axis = 1)\n",
    "\n",
    "#Colunas com alto valor de Missing Data\n",
    "df = df.drop('HaveWorkedDatabase', axis =1)\n",
    "df = df.drop('WantWorkDatabase', axis =1)\n",
    "df = df.drop('HaveWorkedPlatform', axis =1)\n",
    "df = df.drop('WantWorkPlatform', axis =1)\n",
    "\n",
    "#Coluna com apenas uma só resposta\n",
    "df = df.drop(\"Professional\", axis = 1)"
   ]
  },
  {
   "cell_type": "markdown",
   "metadata": {},
   "source": [
    "#### Transformo as colunas com múltiplas respostas em dummies\n",
    "\n",
    "\n",
    "HaveWorkedLanguage, WantWorkLanguage, IDE, DeveloperType e ImportantBenefits, Gender, Race, StackOverflowDevices, MetricAssess, EducationTypes\n"
   ]
  },
  {
   "cell_type": "code",
   "execution_count": 29,
   "metadata": {},
   "outputs": [
    {
     "name": "stdout",
     "output_type": "stream",
     "text": [
      "(1928, 288)\n"
     ]
    },
    {
     "data": {
      "text/html": [
       "<div>\n",
       "<style scoped>\n",
       "    .dataframe tbody tr th:only-of-type {\n",
       "        vertical-align: middle;\n",
       "    }\n",
       "\n",
       "    .dataframe tbody tr th {\n",
       "        vertical-align: top;\n",
       "    }\n",
       "\n",
       "    .dataframe thead th {\n",
       "        text-align: right;\n",
       "    }\n",
       "</style>\n",
       "<table border=\"1\" class=\"dataframe\">\n",
       "  <thead>\n",
       "    <tr style=\"text-align: right;\">\n",
       "      <th></th>\n",
       "      <th>ProgramHobby</th>\n",
       "      <th>Country</th>\n",
       "      <th>University</th>\n",
       "      <th>EmploymentStatus</th>\n",
       "      <th>FormalEducation</th>\n",
       "      <th>MajorUndergrad</th>\n",
       "      <th>HomeRemote</th>\n",
       "      <th>CompanySize</th>\n",
       "      <th>CompanyType</th>\n",
       "      <th>YearsProgram</th>\n",
       "      <th>YearsCodedJob</th>\n",
       "      <th>WebDeveloperType</th>\n",
       "      <th>CareerSatisfaction</th>\n",
       "      <th>JobSatisfaction</th>\n",
       "      <th>ProblemSolving</th>\n",
       "      <th>BuildingThings</th>\n",
       "      <th>LearningNewTech</th>\n",
       "      <th>BoringDetails</th>\n",
       "      <th>JobSecurity</th>\n",
       "      <th>DiversityImportant</th>\n",
       "      <th>AnnoyingUI</th>\n",
       "      <th>FriendsDevelopers</th>\n",
       "      <th>RightWrongWay</th>\n",
       "      <th>UnderstandComputers</th>\n",
       "      <th>SeriousWork</th>\n",
       "      <th>InvestTimeTools</th>\n",
       "      <th>WorkPayCare</th>\n",
       "      <th>KinshipDevelopers</th>\n",
       "      <th>ChallengeMyself</th>\n",
       "      <th>CompetePeers</th>\n",
       "      <th>ChangeWorld</th>\n",
       "      <th>JobSeekingStatus</th>\n",
       "      <th>HoursPerWeek</th>\n",
       "      <th>LastNewJob</th>\n",
       "      <th>AssessJobIndustry</th>\n",
       "      <th>AssessJobRole</th>\n",
       "      <th>AssessJobExp</th>\n",
       "      <th>AssessJobDept</th>\n",
       "      <th>AssessJobTech</th>\n",
       "      <th>AssessJobProjects</th>\n",
       "      <th>AssessJobCompensation</th>\n",
       "      <th>AssessJobOffice</th>\n",
       "      <th>AssessJobCommute</th>\n",
       "      <th>AssessJobRemote</th>\n",
       "      <th>AssessJobLeaders</th>\n",
       "      <th>AssessJobProfDevel</th>\n",
       "      <th>AssessJobDiversity</th>\n",
       "      <th>AssessJobProduct</th>\n",
       "      <th>AssessJobFinances</th>\n",
       "      <th>JobProfile</th>\n",
       "      <th>ResumePrompted</th>\n",
       "      <th>LearnedHiring</th>\n",
       "      <th>ImportantHiringAlgorithms</th>\n",
       "      <th>ImportantHiringTechExp</th>\n",
       "      <th>ImportantHiringCommunication</th>\n",
       "      <th>ImportantHiringOpenSource</th>\n",
       "      <th>ImportantHiringPMExp</th>\n",
       "      <th>ImportantHiringCompanies</th>\n",
       "      <th>ImportantHiringTitles</th>\n",
       "      <th>ImportantHiringEducation</th>\n",
       "      <th>ImportantHiringRep</th>\n",
       "      <th>ImportantHiringGettingThingsDone</th>\n",
       "      <th>Currency</th>\n",
       "      <th>Overpaid</th>\n",
       "      <th>TabsSpaces</th>\n",
       "      <th>EducationImportant</th>\n",
       "      <th>SelfTaughtTypes</th>\n",
       "      <th>CousinEducation</th>\n",
       "      <th>WorkStart</th>\n",
       "      <th>HaveWorkedFramework</th>\n",
       "      <th>WantWorkFramework</th>\n",
       "      <th>AuditoryEnvironment</th>\n",
       "      <th>Methodology</th>\n",
       "      <th>VersionControl</th>\n",
       "      <th>CheckInCode</th>\n",
       "      <th>ShipIt</th>\n",
       "      <th>OtherPeoplesCode</th>\n",
       "      <th>ProjectManagement</th>\n",
       "      <th>EnjoyDebugging</th>\n",
       "      <th>InTheZone</th>\n",
       "      <th>DifficultCommunication</th>\n",
       "      <th>CollaborateRemote</th>\n",
       "      <th>EquipmentSatisfiedMonitors</th>\n",
       "      <th>EquipmentSatisfiedCPU</th>\n",
       "      <th>EquipmentSatisfiedRAM</th>\n",
       "      <th>EquipmentSatisfiedStorage</th>\n",
       "      <th>EquipmentSatisfiedRW</th>\n",
       "      <th>InfluenceInternet</th>\n",
       "      <th>InfluenceWorkstation</th>\n",
       "      <th>InfluenceHardware</th>\n",
       "      <th>InfluenceServers</th>\n",
       "      <th>InfluenceTechStack</th>\n",
       "      <th>InfluenceDeptTech</th>\n",
       "      <th>InfluenceVizTools</th>\n",
       "      <th>InfluenceDatabase</th>\n",
       "      <th>InfluenceCloud</th>\n",
       "      <th>InfluenceConsultants</th>\n",
       "      <th>InfluenceRecruitment</th>\n",
       "      <th>InfluenceCommunication</th>\n",
       "      <th>StackOverflowDescribes</th>\n",
       "      <th>StackOverflowSatisfaction</th>\n",
       "      <th>StackOverflowFoundAnswer</th>\n",
       "      <th>StackOverflowCopiedCode</th>\n",
       "      <th>StackOverflowJobListing</th>\n",
       "      <th>StackOverflowCompanyPage</th>\n",
       "      <th>StackOverflowJobSearch</th>\n",
       "      <th>StackOverflowNewQuestion</th>\n",
       "      <th>StackOverflowAnswer</th>\n",
       "      <th>StackOverflowMetaChat</th>\n",
       "      <th>StackOverflowAdsRelevant</th>\n",
       "      <th>StackOverflowAdsDistracting</th>\n",
       "      <th>StackOverflowModeration</th>\n",
       "      <th>StackOverflowCommunity</th>\n",
       "      <th>StackOverflowHelpful</th>\n",
       "      <th>StackOverflowBetter</th>\n",
       "      <th>StackOverflowWhatDo</th>\n",
       "      <th>StackOverflowMakeMoney</th>\n",
       "      <th>HighestEducationParents</th>\n",
       "      <th>SurveyLong</th>\n",
       "      <th>QuestionsInteresting</th>\n",
       "      <th>QuestionsConfusing</th>\n",
       "      <th>InterestedAnswers</th>\n",
       "      <th>Salary</th>\n",
       "      <th>Worked_with_Assembly</th>\n",
       "      <th>Worked_with_C</th>\n",
       "      <th>Worked_with_C#</th>\n",
       "      <th>Worked_with_C++</th>\n",
       "      <th>Worked_with_Clojure</th>\n",
       "      <th>Worked_with_CoffeeScript</th>\n",
       "      <th>Worked_with_Common Lisp</th>\n",
       "      <th>Worked_with_Dart</th>\n",
       "      <th>Worked_with_Elixir</th>\n",
       "      <th>Worked_with_Erlang</th>\n",
       "      <th>Worked_with_F#</th>\n",
       "      <th>Worked_with_Go</th>\n",
       "      <th>Worked_with_Groovy</th>\n",
       "      <th>Worked_with_Hack</th>\n",
       "      <th>Worked_with_Haskell</th>\n",
       "      <th>Worked_with_Java</th>\n",
       "      <th>Worked_with_JavaScript</th>\n",
       "      <th>Worked_with_Julia</th>\n",
       "      <th>Worked_with_Lua</th>\n",
       "      <th>Worked_with_Matlab</th>\n",
       "      <th>Worked_with_Objective-C</th>\n",
       "      <th>Worked_with_PHP</th>\n",
       "      <th>Worked_with_Perl</th>\n",
       "      <th>Worked_with_Python</th>\n",
       "      <th>Worked_with_R</th>\n",
       "      <th>Worked_with_Ruby</th>\n",
       "      <th>Worked_with_Rust</th>\n",
       "      <th>Worked_with_SQL</th>\n",
       "      <th>Worked_with_Scala</th>\n",
       "      <th>Worked_with_Smalltalk</th>\n",
       "      <th>Worked_with_Swift</th>\n",
       "      <th>Worked_with_TypeScript</th>\n",
       "      <th>Worked_with_VB.NET</th>\n",
       "      <th>Worked_with_VBA</th>\n",
       "      <th>Worked_with_Visual Basic 6</th>\n",
       "      <th>Want_work_Assembly</th>\n",
       "      <th>Want_work_C</th>\n",
       "      <th>Want_work_C#</th>\n",
       "      <th>Want_work_C++</th>\n",
       "      <th>Want_work_Clojure</th>\n",
       "      <th>Want_work_CoffeeScript</th>\n",
       "      <th>Want_work_Common Lisp</th>\n",
       "      <th>Want_work_Dart</th>\n",
       "      <th>Want_work_Elixir</th>\n",
       "      <th>Want_work_Erlang</th>\n",
       "      <th>Want_work_F#</th>\n",
       "      <th>Want_work_Go</th>\n",
       "      <th>Want_work_Groovy</th>\n",
       "      <th>Want_work_Hack</th>\n",
       "      <th>Want_work_Haskell</th>\n",
       "      <th>Want_work_Java</th>\n",
       "      <th>Want_work_JavaScript</th>\n",
       "      <th>Want_work_Julia</th>\n",
       "      <th>Want_work_Lua</th>\n",
       "      <th>Want_work_Matlab</th>\n",
       "      <th>Want_work_Objective-C</th>\n",
       "      <th>Want_work_PHP</th>\n",
       "      <th>Want_work_Perl</th>\n",
       "      <th>Want_work_Python</th>\n",
       "      <th>Want_work_R</th>\n",
       "      <th>Want_work_Ruby</th>\n",
       "      <th>Want_work_Rust</th>\n",
       "      <th>Want_work_SQL</th>\n",
       "      <th>Want_work_Scala</th>\n",
       "      <th>Want_work_Smalltalk</th>\n",
       "      <th>Want_work_Swift</th>\n",
       "      <th>Want_work_TypeScript</th>\n",
       "      <th>Want_work_VB.NET</th>\n",
       "      <th>Want_work_VBA</th>\n",
       "      <th>Want_work_Visual Basic 6</th>\n",
       "      <th>Uses_Android Studio</th>\n",
       "      <th>Uses_Atom</th>\n",
       "      <th>Uses_Coda</th>\n",
       "      <th>Uses_Eclipse</th>\n",
       "      <th>Uses_Emacs</th>\n",
       "      <th>Uses_IPython / Jupyter</th>\n",
       "      <th>Uses_IntelliJ</th>\n",
       "      <th>Uses_Komodo</th>\n",
       "      <th>Uses_Light Table</th>\n",
       "      <th>Uses_NetBeans</th>\n",
       "      <th>Uses_Notepad++</th>\n",
       "      <th>Uses_PHPStorm</th>\n",
       "      <th>Uses_PyCharm</th>\n",
       "      <th>Uses_RStudio</th>\n",
       "      <th>Uses_RubyMine</th>\n",
       "      <th>Uses_Sublime Text</th>\n",
       "      <th>Uses_TextMate</th>\n",
       "      <th>Uses_Vim</th>\n",
       "      <th>Uses_Visual Studio</th>\n",
       "      <th>Uses_Visual Studio Code</th>\n",
       "      <th>Uses_Xcode</th>\n",
       "      <th>Uses_Zend</th>\n",
       "      <th>DevType_Data scientist</th>\n",
       "      <th>DevType_Database administrator</th>\n",
       "      <th>DevType_Desktop applications developer</th>\n",
       "      <th>DevType_DevOps specialist</th>\n",
       "      <th>DevType_Developer with a statistics or mathematics background</th>\n",
       "      <th>DevType_Embedded applications/devices developer</th>\n",
       "      <th>DevType_Graphic designer</th>\n",
       "      <th>DevType_Graphics programming</th>\n",
       "      <th>DevType_Machine learning specialist</th>\n",
       "      <th>DevType_Mobile developer</th>\n",
       "      <th>DevType_Other</th>\n",
       "      <th>DevType_Quality assurance engineer</th>\n",
       "      <th>DevType_Systems administrator</th>\n",
       "      <th>DevType_Web developer</th>\n",
       "      <th>IsImportantBenefit_Annual bonus</th>\n",
       "      <th>IsImportantBenefit_Charitable match</th>\n",
       "      <th>IsImportantBenefit_Child/elder care</th>\n",
       "      <th>IsImportantBenefit_Education sponsorship</th>\n",
       "      <th>IsImportantBenefit_Equipment</th>\n",
       "      <th>IsImportantBenefit_Expected work hours</th>\n",
       "      <th>IsImportantBenefit_Health benefits</th>\n",
       "      <th>IsImportantBenefit_Long-term leave</th>\n",
       "      <th>IsImportantBenefit_Meals</th>\n",
       "      <th>IsImportantBenefit_None of these</th>\n",
       "      <th>IsImportantBenefit_Other</th>\n",
       "      <th>IsImportantBenefit_Private office</th>\n",
       "      <th>IsImportantBenefit_Professional development sponsorship</th>\n",
       "      <th>IsImportantBenefit_Remote options</th>\n",
       "      <th>IsImportantBenefit_Retirement</th>\n",
       "      <th>IsImportantBenefit_Stock options</th>\n",
       "      <th>IsImportantBenefit_Vacation/days off</th>\n",
       "      <th>Gender_Female</th>\n",
       "      <th>Gender_Gender non-conforming</th>\n",
       "      <th>Gender_Male</th>\n",
       "      <th>Gender_Other</th>\n",
       "      <th>Gender_Transgender</th>\n",
       "      <th>Race_Black or of African descent</th>\n",
       "      <th>Race_East Asian</th>\n",
       "      <th>Race_Hispanic or Latino/Latina</th>\n",
       "      <th>Race_I don’t know</th>\n",
       "      <th>Race_I prefer not to say</th>\n",
       "      <th>Race_Middle Eastern</th>\n",
       "      <th>Race_Native American, Pacific Islander, or Indigenous Australian</th>\n",
       "      <th>Race_South Asian</th>\n",
       "      <th>Race_White or of European descent</th>\n",
       "      <th>Uses_StackOverflow_in_Android app</th>\n",
       "      <th>Uses_StackOverflow_in_Android browser</th>\n",
       "      <th>Uses_StackOverflow_in_Desktop</th>\n",
       "      <th>Uses_StackOverflow_in_Other phone browser</th>\n",
       "      <th>Uses_StackOverflow_in_iOS app</th>\n",
       "      <th>Uses_StackOverflow_in_iOS browser</th>\n",
       "      <th>MetricAssess__Benchmarked product performance</th>\n",
       "      <th>MetricAssess__Bugs found</th>\n",
       "      <th>MetricAssess__Commit frequency</th>\n",
       "      <th>MetricAssess__Customer satisfaction</th>\n",
       "      <th>MetricAssess__Hours worked</th>\n",
       "      <th>MetricAssess__Lines of code</th>\n",
       "      <th>MetricAssess__Manager's rating</th>\n",
       "      <th>MetricAssess__On time/in budget</th>\n",
       "      <th>MetricAssess__Other</th>\n",
       "      <th>MetricAssess__Peers' rating</th>\n",
       "      <th>MetricAssess__Release frequency</th>\n",
       "      <th>MetricAssess__Revenue performance</th>\n",
       "      <th>MetricAssess__Self-rating</th>\n",
       "      <th>Education_Bootcamp</th>\n",
       "      <th>Education_Coding competition</th>\n",
       "      <th>Education_Hackathon</th>\n",
       "      <th>Education_Industry certification</th>\n",
       "      <th>Education_On-the-job training</th>\n",
       "      <th>Education_Online course</th>\n",
       "      <th>Education_Open source contributions</th>\n",
       "      <th>Education_Part-time/evening course</th>\n",
       "      <th>Education_Self-taught</th>\n",
       "    </tr>\n",
       "  </thead>\n",
       "  <tbody>\n",
       "    <tr>\n",
       "      <th>34</th>\n",
       "      <td>Yes, I program as a hobby</td>\n",
       "      <td>Croatia</td>\n",
       "      <td>Yes, full-time</td>\n",
       "      <td>Employed full-time</td>\n",
       "      <td>Bachelor's degree</td>\n",
       "      <td>Computer engineering or electrical/electronics...</td>\n",
       "      <td>A few days each month</td>\n",
       "      <td>10 to 19 employees</td>\n",
       "      <td>Privately-held limited company, not in startup...</td>\n",
       "      <td>7 to 8 years</td>\n",
       "      <td>1 to 2 years</td>\n",
       "      <td>NaN</td>\n",
       "      <td>10.0</td>\n",
       "      <td>8.0</td>\n",
       "      <td>NaN</td>\n",
       "      <td>NaN</td>\n",
       "      <td>NaN</td>\n",
       "      <td>NaN</td>\n",
       "      <td>NaN</td>\n",
       "      <td>NaN</td>\n",
       "      <td>NaN</td>\n",
       "      <td>NaN</td>\n",
       "      <td>NaN</td>\n",
       "      <td>NaN</td>\n",
       "      <td>NaN</td>\n",
       "      <td>NaN</td>\n",
       "      <td>NaN</td>\n",
       "      <td>NaN</td>\n",
       "      <td>NaN</td>\n",
       "      <td>NaN</td>\n",
       "      <td>NaN</td>\n",
       "      <td>I'm not actively looking, but I am open to new...</td>\n",
       "      <td>1.0</td>\n",
       "      <td>Between 1 and 2 years ago</td>\n",
       "      <td>Important</td>\n",
       "      <td>Important</td>\n",
       "      <td>Important</td>\n",
       "      <td>Important</td>\n",
       "      <td>Important</td>\n",
       "      <td>Important</td>\n",
       "      <td>Important</td>\n",
       "      <td>Very important</td>\n",
       "      <td>Important</td>\n",
       "      <td>Somewhat important</td>\n",
       "      <td>Important</td>\n",
       "      <td>Very important</td>\n",
       "      <td>Not at all important</td>\n",
       "      <td>Somewhat important</td>\n",
       "      <td>Important</td>\n",
       "      <td>LinkedIn</td>\n",
       "      <td>I completed a major project, assignment, or co...</td>\n",
       "      <td>I was contacted directly by someone at the com...</td>\n",
       "      <td>Very important</td>\n",
       "      <td>Somewhat important</td>\n",
       "      <td>Important</td>\n",
       "      <td>Not very important</td>\n",
       "      <td>Somewhat important</td>\n",
       "      <td>Important</td>\n",
       "      <td>Important</td>\n",
       "      <td>Somewhat important</td>\n",
       "      <td>Not very important</td>\n",
       "      <td>Very important</td>\n",
       "      <td>Euros (€)</td>\n",
       "      <td>Somewhat underpaid</td>\n",
       "      <td>Spaces</td>\n",
       "      <td>Not very important</td>\n",
       "      <td>Trade book; Textbook; Stack Overflow Q&amp;A; Stac...</td>\n",
       "      <td>Get a job as a QA tester; Take online courses;...</td>\n",
       "      <td>7:00 AM</td>\n",
       "      <td>NaN</td>\n",
       "      <td>NaN</td>\n",
       "      <td>Keep the room absolutely quiet</td>\n",
       "      <td>Pair; Kanban</td>\n",
       "      <td>Team Foundation Server</td>\n",
       "      <td>Multiple times a day</td>\n",
       "      <td>Agree</td>\n",
       "      <td>Agree</td>\n",
       "      <td>Agree</td>\n",
       "      <td>Agree</td>\n",
       "      <td>Agree</td>\n",
       "      <td>Disagree</td>\n",
       "      <td>Strongly agree</td>\n",
       "      <td>NaN</td>\n",
       "      <td>NaN</td>\n",
       "      <td>NaN</td>\n",
       "      <td>NaN</td>\n",
       "      <td>NaN</td>\n",
       "      <td>NaN</td>\n",
       "      <td>NaN</td>\n",
       "      <td>NaN</td>\n",
       "      <td>NaN</td>\n",
       "      <td>NaN</td>\n",
       "      <td>NaN</td>\n",
       "      <td>NaN</td>\n",
       "      <td>NaN</td>\n",
       "      <td>NaN</td>\n",
       "      <td>NaN</td>\n",
       "      <td>NaN</td>\n",
       "      <td>NaN</td>\n",
       "      <td>I have a login for Stack Overflow, but haven't...</td>\n",
       "      <td>10.0</td>\n",
       "      <td>Several times</td>\n",
       "      <td>Haven't done at all</td>\n",
       "      <td>Haven't done at all</td>\n",
       "      <td>Haven't done at all</td>\n",
       "      <td>Haven't done at all</td>\n",
       "      <td>Haven't done at all</td>\n",
       "      <td>Haven't done at all</td>\n",
       "      <td>Haven't done at all</td>\n",
       "      <td>Disagree</td>\n",
       "      <td>Strongly disagree</td>\n",
       "      <td>Strongly disagree</td>\n",
       "      <td>Somewhat agree</td>\n",
       "      <td>Agree</td>\n",
       "      <td>Strongly agree</td>\n",
       "      <td>Somewhat agree</td>\n",
       "      <td>Strongly disagree</td>\n",
       "      <td>A master's degree</td>\n",
       "      <td>Disagree</td>\n",
       "      <td>Agree</td>\n",
       "      <td>Strongly disagree</td>\n",
       "      <td>Agree</td>\n",
       "      <td>14838.709677</td>\n",
       "      <td>1</td>\n",
       "      <td>1</td>\n",
       "      <td>0</td>\n",
       "      <td>0</td>\n",
       "      <td>0</td>\n",
       "      <td>0</td>\n",
       "      <td>0</td>\n",
       "      <td>0</td>\n",
       "      <td>0</td>\n",
       "      <td>0</td>\n",
       "      <td>0</td>\n",
       "      <td>0</td>\n",
       "      <td>0</td>\n",
       "      <td>0</td>\n",
       "      <td>0</td>\n",
       "      <td>0</td>\n",
       "      <td>0</td>\n",
       "      <td>0</td>\n",
       "      <td>0</td>\n",
       "      <td>0</td>\n",
       "      <td>0</td>\n",
       "      <td>0</td>\n",
       "      <td>0</td>\n",
       "      <td>0</td>\n",
       "      <td>0</td>\n",
       "      <td>0</td>\n",
       "      <td>0</td>\n",
       "      <td>0</td>\n",
       "      <td>0</td>\n",
       "      <td>0</td>\n",
       "      <td>0</td>\n",
       "      <td>0</td>\n",
       "      <td>0</td>\n",
       "      <td>0</td>\n",
       "      <td>0</td>\n",
       "      <td>0</td>\n",
       "      <td>0</td>\n",
       "      <td>0</td>\n",
       "      <td>1</td>\n",
       "      <td>0</td>\n",
       "      <td>0</td>\n",
       "      <td>0</td>\n",
       "      <td>0</td>\n",
       "      <td>1</td>\n",
       "      <td>0</td>\n",
       "      <td>0</td>\n",
       "      <td>0</td>\n",
       "      <td>0</td>\n",
       "      <td>0</td>\n",
       "      <td>0</td>\n",
       "      <td>0</td>\n",
       "      <td>0</td>\n",
       "      <td>0</td>\n",
       "      <td>0</td>\n",
       "      <td>0</td>\n",
       "      <td>0</td>\n",
       "      <td>0</td>\n",
       "      <td>0</td>\n",
       "      <td>1</td>\n",
       "      <td>0</td>\n",
       "      <td>0</td>\n",
       "      <td>0</td>\n",
       "      <td>0</td>\n",
       "      <td>0</td>\n",
       "      <td>0</td>\n",
       "      <td>0</td>\n",
       "      <td>0</td>\n",
       "      <td>0</td>\n",
       "      <td>0</td>\n",
       "      <td>0</td>\n",
       "      <td>0</td>\n",
       "      <td>0</td>\n",
       "      <td>0</td>\n",
       "      <td>0</td>\n",
       "      <td>0</td>\n",
       "      <td>0</td>\n",
       "      <td>0</td>\n",
       "      <td>0</td>\n",
       "      <td>0</td>\n",
       "      <td>0</td>\n",
       "      <td>0</td>\n",
       "      <td>0</td>\n",
       "      <td>0</td>\n",
       "      <td>0</td>\n",
       "      <td>0</td>\n",
       "      <td>1</td>\n",
       "      <td>0</td>\n",
       "      <td>1</td>\n",
       "      <td>0</td>\n",
       "      <td>0</td>\n",
       "      <td>0</td>\n",
       "      <td>0</td>\n",
       "      <td>0</td>\n",
       "      <td>0</td>\n",
       "      <td>0</td>\n",
       "      <td>0</td>\n",
       "      <td>0</td>\n",
       "      <td>1</td>\n",
       "      <td>0</td>\n",
       "      <td>0</td>\n",
       "      <td>0</td>\n",
       "      <td>0</td>\n",
       "      <td>0</td>\n",
       "      <td>0</td>\n",
       "      <td>0</td>\n",
       "      <td>0</td>\n",
       "      <td>1</td>\n",
       "      <td>0</td>\n",
       "      <td>1</td>\n",
       "      <td>0</td>\n",
       "      <td>1</td>\n",
       "      <td>0</td>\n",
       "      <td>0</td>\n",
       "      <td>0</td>\n",
       "      <td>0</td>\n",
       "      <td>0</td>\n",
       "      <td>0</td>\n",
       "      <td>0</td>\n",
       "      <td>1</td>\n",
       "      <td>0</td>\n",
       "      <td>0</td>\n",
       "      <td>1</td>\n",
       "      <td>0</td>\n",
       "      <td>0</td>\n",
       "      <td>0</td>\n",
       "      <td>1</td>\n",
       "      <td>0</td>\n",
       "      <td>0</td>\n",
       "      <td>0</td>\n",
       "      <td>0</td>\n",
       "      <td>0</td>\n",
       "      <td>0</td>\n",
       "      <td>0</td>\n",
       "      <td>0</td>\n",
       "      <td>0</td>\n",
       "      <td>0</td>\n",
       "      <td>1</td>\n",
       "      <td>0</td>\n",
       "      <td>0</td>\n",
       "      <td>1</td>\n",
       "      <td>0</td>\n",
       "      <td>1</td>\n",
       "      <td>0</td>\n",
       "      <td>1</td>\n",
       "      <td>0</td>\n",
       "      <td>0</td>\n",
       "      <td>1</td>\n",
       "      <td>0</td>\n",
       "      <td>0</td>\n",
       "      <td>1</td>\n",
       "      <td>1</td>\n",
       "      <td>0</td>\n",
       "      <td>1</td>\n",
       "      <td>0</td>\n",
       "      <td>1</td>\n",
       "      <td>0</td>\n",
       "      <td>0</td>\n",
       "      <td>1</td>\n",
       "      <td>0</td>\n",
       "      <td>0</td>\n",
       "      <td>0</td>\n",
       "      <td>0</td>\n",
       "      <td>0</td>\n",
       "      <td>1</td>\n",
       "      <td>1</td>\n",
       "    </tr>\n",
       "  </tbody>\n",
       "</table>\n",
       "</div>"
      ],
      "text/plain": [
       "                 ProgramHobby  Country      University    EmploymentStatus    FormalEducation                                     MajorUndergrad             HomeRemote         CompanySize                                        CompanyType  YearsProgram YearsCodedJob WebDeveloperType  CareerSatisfaction  JobSatisfaction ProblemSolving BuildingThings LearningNewTech BoringDetails JobSecurity DiversityImportant AnnoyingUI FriendsDevelopers RightWrongWay UnderstandComputers SeriousWork InvestTimeTools WorkPayCare KinshipDevelopers ChallengeMyself CompetePeers ChangeWorld                                   JobSeekingStatus  HoursPerWeek                 LastNewJob AssessJobIndustry AssessJobRole AssessJobExp AssessJobDept AssessJobTech AssessJobProjects AssessJobCompensation AssessJobOffice AssessJobCommute     AssessJobRemote AssessJobLeaders AssessJobProfDevel    AssessJobDiversity    AssessJobProduct AssessJobFinances JobProfile                                     ResumePrompted  \\\n",
       "34  Yes, I program as a hobby  Croatia  Yes, full-time  Employed full-time  Bachelor's degree  Computer engineering or electrical/electronics...  A few days each month  10 to 19 employees  Privately-held limited company, not in startup...  7 to 8 years  1 to 2 years              NaN                10.0              8.0            NaN            NaN             NaN           NaN         NaN                NaN        NaN               NaN           NaN                 NaN         NaN             NaN         NaN               NaN             NaN          NaN         NaN  I'm not actively looking, but I am open to new...           1.0  Between 1 and 2 years ago         Important     Important    Important     Important     Important         Important             Important  Very important        Important  Somewhat important        Important     Very important  Not at all important  Somewhat important         Important   LinkedIn  I completed a major project, assignment, or co...   \n",
       "\n",
       "                                        LearnedHiring ImportantHiringAlgorithms ImportantHiringTechExp ImportantHiringCommunication ImportantHiringOpenSource ImportantHiringPMExp ImportantHiringCompanies ImportantHiringTitles ImportantHiringEducation  ImportantHiringRep ImportantHiringGettingThingsDone   Currency            Overpaid TabsSpaces  EducationImportant                                    SelfTaughtTypes                                    CousinEducation WorkStart HaveWorkedFramework WantWorkFramework             AuditoryEnvironment   Methodology          VersionControl           CheckInCode ShipIt OtherPeoplesCode ProjectManagement EnjoyDebugging InTheZone DifficultCommunication CollaborateRemote EquipmentSatisfiedMonitors EquipmentSatisfiedCPU EquipmentSatisfiedRAM EquipmentSatisfiedStorage EquipmentSatisfiedRW InfluenceInternet InfluenceWorkstation InfluenceHardware InfluenceServers InfluenceTechStack InfluenceDeptTech InfluenceVizTools InfluenceDatabase InfluenceCloud  \\\n",
       "34  I was contacted directly by someone at the com...            Very important     Somewhat important                    Important        Not very important   Somewhat important                Important             Important       Somewhat important  Not very important                   Very important  Euros (€)  Somewhat underpaid     Spaces  Not very important  Trade book; Textbook; Stack Overflow Q&A; Stac...  Get a job as a QA tester; Take online courses;...   7:00 AM                 NaN               NaN  Keep the room absolutely quiet  Pair; Kanban  Team Foundation Server  Multiple times a day  Agree            Agree             Agree          Agree     Agree               Disagree    Strongly agree                        NaN                   NaN                   NaN                       NaN                  NaN               NaN                  NaN               NaN              NaN                NaN               NaN               NaN               NaN            NaN   \n",
       "\n",
       "   InfluenceConsultants InfluenceRecruitment InfluenceCommunication                             StackOverflowDescribes  StackOverflowSatisfaction StackOverflowFoundAnswer StackOverflowCopiedCode StackOverflowJobListing StackOverflowCompanyPage StackOverflowJobSearch StackOverflowNewQuestion  StackOverflowAnswer StackOverflowMetaChat StackOverflowAdsRelevant StackOverflowAdsDistracting StackOverflowModeration StackOverflowCommunity StackOverflowHelpful StackOverflowBetter StackOverflowWhatDo StackOverflowMakeMoney HighestEducationParents SurveyLong QuestionsInteresting QuestionsConfusing InterestedAnswers        Salary  Worked_with_Assembly  Worked_with_C  Worked_with_C#  Worked_with_C++  Worked_with_Clojure  Worked_with_CoffeeScript  Worked_with_Common Lisp  Worked_with_Dart  Worked_with_Elixir  Worked_with_Erlang  Worked_with_F#  Worked_with_Go  Worked_with_Groovy  Worked_with_Hack  Worked_with_Haskell  Worked_with_Java  Worked_with_JavaScript  Worked_with_Julia  Worked_with_Lua  \\\n",
       "34                  NaN                  NaN                    NaN  I have a login for Stack Overflow, but haven't...                       10.0            Several times     Haven't done at all     Haven't done at all      Haven't done at all    Haven't done at all      Haven't done at all  Haven't done at all   Haven't done at all                 Disagree           Strongly disagree       Strongly disagree         Somewhat agree                Agree      Strongly agree      Somewhat agree      Strongly disagree       A master's degree   Disagree                Agree  Strongly disagree             Agree  14838.709677                     1              1               0                0                    0                         0                        0                 0                   0                   0               0               0                   0                 0                    0                 0                       0                  0                0   \n",
       "\n",
       "    Worked_with_Matlab  Worked_with_Objective-C  Worked_with_PHP  Worked_with_Perl  Worked_with_Python  Worked_with_R  Worked_with_Ruby  Worked_with_Rust  Worked_with_SQL  Worked_with_Scala  Worked_with_Smalltalk  Worked_with_Swift  Worked_with_TypeScript  Worked_with_VB.NET  Worked_with_VBA  Worked_with_Visual Basic 6  Want_work_Assembly  Want_work_C  Want_work_C#  Want_work_C++  Want_work_Clojure  Want_work_CoffeeScript  Want_work_Common Lisp  Want_work_Dart  Want_work_Elixir  Want_work_Erlang  Want_work_F#  Want_work_Go  Want_work_Groovy  Want_work_Hack  Want_work_Haskell  Want_work_Java  Want_work_JavaScript  Want_work_Julia  Want_work_Lua  Want_work_Matlab  Want_work_Objective-C  Want_work_PHP  Want_work_Perl  Want_work_Python  Want_work_R  Want_work_Ruby  Want_work_Rust  Want_work_SQL  Want_work_Scala  Want_work_Smalltalk  Want_work_Swift  Want_work_TypeScript  Want_work_VB.NET  Want_work_VBA  Want_work_Visual Basic 6  Uses_Android Studio  Uses_Atom  Uses_Coda  Uses_Eclipse  \\\n",
       "34                   0                        0                0                 0                   0              0                 0                 0                0                  0                      0                  0                       0                   0                0                           0                   0            0             0              1                  0                       0                      0               0                 1                 0             0             0                 0               0                  0               0                     0                0              0                 0                      0              0               0                 1            0               0               0              0                0                    0                0                     0                 0              0                         0                    0          0          0             0   \n",
       "\n",
       "    Uses_Emacs  Uses_IPython / Jupyter  Uses_IntelliJ  Uses_Komodo  Uses_Light Table  Uses_NetBeans  Uses_Notepad++  Uses_PHPStorm  Uses_PyCharm  Uses_RStudio  Uses_RubyMine  Uses_Sublime Text  Uses_TextMate  Uses_Vim  Uses_Visual Studio  Uses_Visual Studio Code  Uses_Xcode  Uses_Zend  DevType_Data scientist  DevType_Database administrator  DevType_Desktop applications developer  DevType_DevOps specialist  DevType_Developer with a statistics or mathematics background  DevType_Embedded applications/devices developer  DevType_Graphic designer  DevType_Graphics programming  DevType_Machine learning specialist  DevType_Mobile developer  DevType_Other  DevType_Quality assurance engineer  DevType_Systems administrator  DevType_Web developer  IsImportantBenefit_Annual bonus  IsImportantBenefit_Charitable match  IsImportantBenefit_Child/elder care  IsImportantBenefit_Education sponsorship  IsImportantBenefit_Equipment  IsImportantBenefit_Expected work hours  \\\n",
       "34           0                       0              0            0                 0              0               0              0             0             0              0                  1              0         1                   0                        0           0          0                       0                               0                                       0                          0                                                  0                                                            1                         0                             0                                    0                         0              0                                   0                              0                      0                                1                                    0                                    1                                         0                             1                                       0   \n",
       "\n",
       "    IsImportantBenefit_Health benefits  IsImportantBenefit_Long-term leave  IsImportantBenefit_Meals  IsImportantBenefit_None of these  IsImportantBenefit_Other  IsImportantBenefit_Private office  IsImportantBenefit_Professional development sponsorship  IsImportantBenefit_Remote options  IsImportantBenefit_Retirement  IsImportantBenefit_Stock options  IsImportantBenefit_Vacation/days off  Gender_Female  Gender_Gender non-conforming  Gender_Male  Gender_Other  Gender_Transgender  Race_Black or of African descent  Race_East Asian  Race_Hispanic or Latino/Latina  Race_I don’t know  Race_I prefer not to say  Race_Middle Eastern  Race_Native American, Pacific Islander, or Indigenous Australian  Race_South Asian  Race_White or of European descent  Uses_StackOverflow_in_Android app  Uses_StackOverflow_in_Android browser  Uses_StackOverflow_in_Desktop  Uses_StackOverflow_in_Other phone browser  Uses_StackOverflow_in_iOS app  Uses_StackOverflow_in_iOS browser  \\\n",
       "34                                   0                                   0                         0                                 0                         0                                  0                                                  1                                        0                              0                                 1                                     0              0                             0            1             0                   0                                 0                0                               0                  0                         0                    0                                                  0                                0                                  1                                  0                                      0                              1                                          0                              1                                  0   \n",
       "\n",
       "    MetricAssess__Benchmarked product performance  MetricAssess__Bugs found  MetricAssess__Commit frequency  MetricAssess__Customer satisfaction  MetricAssess__Hours worked  MetricAssess__Lines of code  MetricAssess__Manager's rating  MetricAssess__On time/in budget  MetricAssess__Other  MetricAssess__Peers' rating  MetricAssess__Release frequency  MetricAssess__Revenue performance  MetricAssess__Self-rating  Education_Bootcamp  Education_Coding competition  Education_Hackathon  Education_Industry certification  Education_On-the-job training  Education_Online course  Education_Open source contributions  Education_Part-time/evening course  Education_Self-taught  \n",
       "34                                              1                         0                               0                                    1                           0                            0                               1                                1                    0                            1                                0                                  1                          0                   0                             1                    0                                 0                              0                        0                                    0                                   1                      1  "
      ]
     },
     "execution_count": 29,
     "metadata": {},
     "output_type": "execute_result"
    }
   ],
   "source": [
    "def strip_lista(lista):\n",
    "    return list(map(str.strip,lista))\n",
    "\n",
    "def get_dummy_cols(df, column_string, prefix = \"uses\"):\n",
    "    df1 = df[column_string].str.split(';').dropna()\n",
    "    df1 = df1.apply(lambda x: strip_lista(x))\n",
    "    df2 = pd.get_dummies(df1.apply(pd.Series).stack()).sum(level=0)\n",
    "    df = df.drop(column_string, axis = 1)\n",
    "    df2.columns = [prefix +\"_\"+ x for x in df2.columns]     \n",
    "    result = pd.merge(df,df2,left_index=True,right_index=True)\n",
    "    return result\n",
    "\n",
    "\n",
    "df = get_dummy_cols(df,'HaveWorkedLanguage', prefix ='Worked_with')\n",
    "df = get_dummy_cols(df,'WantWorkLanguage', prefix = 'Want_work')\n",
    "df = get_dummy_cols(df,'IDE' ,prefix = 'Uses')\n",
    "df = get_dummy_cols(df, \"DeveloperType\", prefix = \"DevType\")\n",
    "df = get_dummy_cols(df,'ImportantBenefits' ,prefix = 'IsImportantBenefit')\n",
    "df = get_dummy_cols(df,'Gender' ,prefix = 'Gender')\n",
    "df = get_dummy_cols(df, 'Race', prefix = \"Race\")\n",
    "df = get_dummy_cols(df, 'StackOverflowDevices', prefix = \"Uses_StackOverflow_in\")\n",
    "df = get_dummy_cols(df, 'MetricAssess', prefix = \"MetricAssess_\")\n",
    "df = get_dummy_cols(df, 'EducationTypes', prefix = \"Education\")\n",
    "\n",
    "print(df.shape)\n",
    "df.head(1)"
   ]
  },
  {
   "cell_type": "markdown",
   "metadata": {},
   "source": [
    "### FIM DO PRE TRATAMENTO\n"
   ]
  },
  {
   "cell_type": "code",
   "execution_count": 30,
   "metadata": {},
   "outputs": [],
   "source": [
    "df.to_csv(\"data_tratada.csv\")"
   ]
  },
  {
   "cell_type": "markdown",
   "metadata": {},
   "source": [
    "#### Transformo as variáveis não numéricas em Dummies"
   ]
  },
  {
   "cell_type": "code",
   "execution_count": 8,
   "metadata": {},
   "outputs": [
    {
     "data": {
      "text/plain": [
       "Index(['CareerSatisfaction', 'JobSatisfaction', 'HoursPerWeek', 'StackOverflowSatisfaction', 'Salary'], dtype='object')"
      ]
     },
     "execution_count": 8,
     "metadata": {},
     "output_type": "execute_result"
    }
   ],
   "source": [
    "#only numeric columns\n",
    "\n",
    "numerics = ['int16', 'int32', 'int64', 'float16', 'float32', 'float64']\n",
    "numeric_columns = df.select_dtypes(include=numerics)\n",
    "numeric_columns.columns"
   ]
  },
  {
   "cell_type": "code",
   "execution_count": 9,
   "metadata": {},
   "outputs": [
    {
     "name": "stdout",
     "output_type": "stream",
     "text": [
      "Colunas que já são dummies: 199\n"
     ]
    }
   ],
   "source": [
    "#Colunas com prefixos (as colunas que já foram transformadas em dummies) não entram no get_dummies\n",
    "prefix_list = [\"Worked_with_\",\"Want_work_\",\"Uses_\",\"DevType_\",\"Uses_\",\"IsImportantBenefit_\",\"Gender_\",\n",
    "              \"Race_\",\"Uses_StackOverflow_in\",\"MetricAssess_\",\"Education_\"]\n",
    "\n",
    "already_dummies = []\n",
    "for prefix in prefix_list:\n",
    "    already_dummies += [col for col in df.columns.values if prefix in col]\n",
    "\n",
    "print(\"Colunas que já são dummies:\", len(already_dummies) )"
   ]
  },
  {
   "cell_type": "code",
   "execution_count": 10,
   "metadata": {},
   "outputs": [
    {
     "name": "stdout",
     "output_type": "stream",
     "text": [
      "(1928, 2297)\n"
     ]
    }
   ],
   "source": [
    "not_numeric = [x for x in df.columns.values if x not in numeric_columns]\n",
    "to_dummies = [x for x in not_numeric if x not in already_dummies]\n",
    "\n",
    "X = pd.get_dummies(df, columns=to_dummies)\n",
    "print(X.shape)"
   ]
  },
  {
   "cell_type": "markdown",
   "metadata": {},
   "source": [
    "#### Separo em X = Colunas de df menos a Salary e Y = sqrt(Salary) "
   ]
  },
  {
   "cell_type": "code",
   "execution_count": 12,
   "metadata": {},
   "outputs": [
    {
     "name": "stdout",
     "output_type": "stream",
     "text": [
      "Antes:  1928\n",
      "1928\n"
     ]
    }
   ],
   "source": [
    "print(\"Antes: \", len(X))\n",
    "X = X[X[\"Salary\"]!=0]\n",
    "y  = np.sqrt(X[\"Salary\"])\n",
    "X = X.drop('Salary',axis = 1)\n",
    "print(len(y))"
   ]
  },
  {
   "cell_type": "markdown",
   "metadata": {},
   "source": [
    "# Plotar hist(Salary) e sqrt(salary) --justificar  *****"
   ]
  },
  {
   "cell_type": "markdown",
   "metadata": {},
   "source": [
    "#### Elimino variáveis com pouca variedade (binárias com menos de 200 valores 1 em X)"
   ]
  },
  {
   "cell_type": "code",
   "execution_count": 13,
   "metadata": {},
   "outputs": [
    {
     "name": "stdout",
     "output_type": "stream",
     "text": [
      "(1928, 2296)\n",
      "(1928, 648)\n"
     ]
    }
   ],
   "source": [
    "print(X.shape)\n",
    "not_numeric = [col for col in X.columns.values if col not in numeric_columns.columns.values]\n",
    "cols = [col for col in not_numeric if X[col].sum()>50]\n",
    "X = X[cols]\n",
    "print(X.shape)"
   ]
  },
  {
   "cell_type": "markdown",
   "metadata": {},
   "source": [
    "#### Separo em Train e Test e Normalizo colunas numericas"
   ]
  },
  {
   "cell_type": "code",
   "execution_count": 14,
   "metadata": {},
   "outputs": [],
   "source": [
    "X_train, X_test, y_train, y_test = train_test_split(X, y, test_size=0.25, random_state = 1)"
   ]
  },
  {
   "cell_type": "markdown",
   "metadata": {},
   "source": [
    "#### Treino Modelo Linear"
   ]
  },
  {
   "cell_type": "code",
   "execution_count": 15,
   "metadata": {},
   "outputs": [
    {
     "data": {
      "text/plain": [
       "LinearRegression(copy_X=True, fit_intercept=True, n_jobs=1, normalize=False)"
      ]
     },
     "execution_count": 15,
     "metadata": {},
     "output_type": "execute_result"
    }
   ],
   "source": [
    "lm = linear_model.LinearRegression()\n",
    "lm.fit(X_train, y_train)"
   ]
  },
  {
   "cell_type": "code",
   "execution_count": 16,
   "metadata": {},
   "outputs": [
    {
     "name": "stdout",
     "output_type": "stream",
     "text": [
      "26729.1469673\n"
     ]
    }
   ],
   "source": [
    "# Predict\n",
    "y_pred = lm.predict(X_test)\n",
    "\n",
    "# RMSE\n",
    "print(np.sqrt(metrics.mean_squared_error(y_test**2, y_pred**2)))"
   ]
  },
  {
   "cell_type": "code",
   "execution_count": 22,
   "metadata": {},
   "outputs": [
    {
     "data": {
      "text/plain": [
       "NormaltestResult(statistic=11.214060584695865, pvalue=0.0036719578231947524)"
      ]
     },
     "execution_count": 22,
     "metadata": {},
     "output_type": "execute_result"
    },
    {
     "data": {
      "image/png": "[encoded data removed]",
      "text/plain": [
       "<matplotlib.figure.Figure at 0x1128ac0b8>"
      ]
     },
     "metadata": {},
     "output_type": "display_data"
    }
   ],
   "source": [
    "import scipy\n",
    "res = y_test - y_pred\n",
    "plt.scatter(y_pred,res)\n",
    "scipy.stats.normaltest(res)"
   ]
  },
  {
   "cell_type": "code",
   "execution_count": 18,
   "metadata": {},
   "outputs": [
    {
     "data": {
      "text/plain": [
       "(array([   1.,    5.,   15.,   49.,  107.,  139.,  108.,   46.,    8.,    4.]),\n",
       " array([-244.19193669, -199.68097059, -155.17000449, -110.6590384 ,\n",
       "         -66.1480723 ,  -21.6371062 ,   22.87385989,   67.38482599,\n",
       "         111.89579209,  156.40675818,  200.91772428]),\n",
       " <a list of 10 Patch objects>)"
      ]
     },
     "execution_count": 18,
     "metadata": {},
     "output_type": "execute_result"
    },
    {
     "data": {
      "image/png": "[encoded data removed]",
      "text/plain": [
       "<matplotlib.figure.Figure at 0x1104ee470>"
      ]
     },
     "metadata": {},
     "output_type": "display_data"
    }
   ],
   "source": [
    "plt.hist(res)"
   ]
  },
  {
   "cell_type": "code",
   "execution_count": 19,
   "metadata": {},
   "outputs": [
    {
     "data": {
      "text/plain": [
       "<matplotlib.axes._subplots.AxesSubplot at 0x115c3b438>"
      ]
     },
     "execution_count": 19,
     "metadata": {},
     "output_type": "execute_result"
    },
    {
     "data": {
      "image/png": "[encoded data removed]",
      "text/plain": [
       "<matplotlib.figure.Figure at 0x110473940>"
      ]
     },
     "metadata": {},
     "output_type": "display_data"
    }
   ],
   "source": [
    "y_predicted = pd.DataFrame()\n",
    "y_predicted[\"y_pred\"] = y_pred\n",
    "y_predicted[\"y_pred\"].hist()"
   ]
  },
  {
   "cell_type": "code",
   "execution_count": 20,
   "metadata": {},
   "outputs": [
    {
     "data": {
      "text/plain": [
       "(array([ 100.,  133.,   87.,   66.,   46.,   23.,   17.,    5.,    4.,    1.]),\n",
       " array([  1.85976562e+01,   2.18168825e+04,   4.36151674e+04,\n",
       "          6.54134522e+04,   8.72117371e+04,   1.09010022e+05,\n",
       "          1.30808307e+05,   1.52606592e+05,   1.74404877e+05,\n",
       "          1.96203161e+05,   2.18001446e+05]),\n",
       " <a list of 10 Patch objects>)"
      ]
     },
     "execution_count": 20,
     "metadata": {},
     "output_type": "execute_result"
    },
    {
     "data": {
      "image/png": "[encoded data removed]",
      "text/plain": [
       "<matplotlib.figure.Figure at 0x112f2aa90>"
      ]
     },
     "metadata": {},
     "output_type": "display_data"
    }
   ],
   "source": [
    "plt.hist(y_pred*y_pred)"
   ]
  },
  {
   "cell_type": "code",
   "execution_count": 21,
   "metadata": {},
   "outputs": [
    {
     "data": {
      "text/plain": [
       "(array([  96.,   82.,  115.,   64.,   47.,   29.,   21.,   14.,    8.,    6.]),\n",
       " array([  6.77495006e+00,   1.84060975e+04,   3.68054200e+04,\n",
       "          5.52047425e+04,   7.36040650e+04,   9.20033875e+04,\n",
       "          1.10402710e+05,   1.28802032e+05,   1.47201355e+05,\n",
       "          1.65600677e+05,   1.84000000e+05]),\n",
       " <a list of 10 Patch objects>)"
      ]
     },
     "execution_count": 21,
     "metadata": {},
     "output_type": "execute_result"
    },
    {
     "data": {
      "image/png": "[encoded data removed]",
      "text/plain": [
       "<matplotlib.figure.Figure at 0x112c4c048>"
      ]
     },
     "metadata": {},
     "output_type": "display_data"
    }
   ],
   "source": [
    "plt.hist(y_test*y_test)"
   ]
  },
  {
   "cell_type": "markdown",
   "metadata": {},
   "source": [
    "# LASSO"
   ]
  },
  {
   "cell_type": "code",
   "execution_count": null,
   "metadata": {},
   "outputs": [],
   "source": [
    "#SALARIO - LASSO\n",
    "from sklearn.linear_model import LassoCV\n",
    "  \n",
    "lasso = LassoCV(tol=.01, normalize=True, fit_intercept=True)\n",
    "lasso.fit(X_train, y_train)\n",
    "  \n",
    "# Predict\n",
    "y_pred = lasso.predict(X_test) \n",
    "\n",
    "# RMSE\n",
    "print(np.sqrt(metrics.mean_squared_error(y_test**2, y_pred**2)))"
   ]
  },
  {
   "cell_type": "code",
   "execution_count": null,
   "metadata": {},
   "outputs": [],
   "source": [
    "res = y_test**2 - y_pred**2\n",
    "plt.hist(res)"
   ]
  },
  {
   "cell_type": "code",
   "execution_count": null,
   "metadata": {},
   "outputs": [],
   "source": [
    "import scipy\n",
    "\n",
    "scipy.stats.normaltest(res)"
   ]
  },
  {
   "cell_type": "code",
   "execution_count": null,
   "metadata": {},
   "outputs": [],
   "source": [
    "y_predicted = pd.DataFrame()\n",
    "y_predicted[\"y_pred\"] = y_pred\n",
    "y_predicted[\"y_pred\"].hist()"
   ]
  },
  {
   "cell_type": "code",
   "execution_count": null,
   "metadata": {},
   "outputs": [],
   "source": [
    "plt.hist(y_pred*y_pred)"
   ]
  },
  {
   "cell_type": "code",
   "execution_count": null,
   "metadata": {},
   "outputs": [],
   "source": [
    "plt.hist(y_test*y_test)"
   ]
  },
  {
   "cell_type": "markdown",
   "metadata": {},
   "source": [
    "## RIDGE"
   ]
  },
  {
   "cell_type": "code",
   "execution_count": null,
   "metadata": {},
   "outputs": [],
   "source": [
    "from sklearn.linear_model import RidgeCV\n",
    "clf = RidgeCV()\n",
    "clf.fit(X_train, y_train)\n",
    "  \n",
    "# Predict\n",
    "y_pred = clf.predict(X_test)  #OBS TIVE QUE COLOCAR UM MÓDULO (ABS) NOS RESULTADOS\n",
    "\n",
    "# RMSE\n",
    "print(np.sqrt(metrics.mean_squared_error(y_test**2, y_pred**2)))"
   ]
  },
  {
   "cell_type": "code",
   "execution_count": null,
   "metadata": {},
   "outputs": [],
   "source": [
    "res = y_test**2 - y_pred**2\n",
    "plt.hist(res)"
   ]
  },
  {
   "cell_type": "code",
   "execution_count": null,
   "metadata": {},
   "outputs": [],
   "source": [
    "y_predicted = pd.DataFrame()\n",
    "y_predicted[\"y_pred\"] = y_pred\n",
    "y_predicted[\"y_pred\"].hist()"
   ]
  },
  {
   "cell_type": "code",
   "execution_count": null,
   "metadata": {},
   "outputs": [],
   "source": [
    "plt.hist(y_pred*y_pred)"
   ]
  },
  {
   "cell_type": "code",
   "execution_count": null,
   "metadata": {},
   "outputs": [],
   "source": [
    "plt.hist(y_test*y_test)\n"
   ]
  },
  {
   "cell_type": "code",
   "execution_count": null,
   "metadata": {},
   "outputs": [],
   "source": [
    "df.to_csv(\"data_tratada.csv\")"
   ]
  },
  {
   "cell_type": "code",
   "execution_count": null,
   "metadata": {},
   "outputs": [],
   "source": []
  }
 ],
 "metadata": {
  "kernelspec": {
   "display_name": "Python 3",
   "language": "python",
   "name": "python3"
  },
  "language_info": {
   "codemirror_mode": {
    "name": "ipython",
    "version": 3
   },
   "file_extension": ".py",
   "mimetype": "text/x-python",
   "name": "python",
   "nbconvert_exporter": "python",
   "pygments_lexer": "ipython3",
   "version": "3.5.2"
  }
 },
 "nbformat": 4,
 "nbformat_minor": 2
}
